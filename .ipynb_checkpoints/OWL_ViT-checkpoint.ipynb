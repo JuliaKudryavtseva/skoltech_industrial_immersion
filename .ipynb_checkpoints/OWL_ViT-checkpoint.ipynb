{
 "cells": [
  {
   "cell_type": "markdown",
   "id": "b82aa6a3-31ce-4031-97bd-0710edb4388b",
   "metadata": {},
   "source": [
    "*Исходные данные:*\n",
    " \n",
    "- **Open Vocabulary Detector на основе CLIP:** OWL-ViT Demo - a Hugging Face Space by adirik \n",
    "- **Целевые область:** ритэйл товары (молочная продукция, снэки, чипсы, консервы и т.д.) \n",
    "\n",
    "    1. https://github.com/marcusklasson/GroceryStoreDataset\n",
    "    2. https://vizwiz.org/tasks-and-datasets/vqa/\n",
    "\n",
    "- Для каждого типа товаров есть естественное для человека название: йогурт, чипсы с луком, пастеризованное молоко, конфеты шоколадные и т.д. \n",
    "- **Гипотеза:** для каждого типа объектов существует некоторое множество названий (текст промптов), отличающихся от естественного, которые максимизируют точность детекции mAP данного товара. \n",
    "- **Задача:** предложить алгоритм поиска (или обучения генератора) оптимальной группы текст промптов, по исходному описанию товара: \n",
    "  - использование готовых алгоритмов из статей - приветствуется, но не обязательно \n",
    "  - скрипты, эксперименты, найденные open-source проекты - приветствуются \n",
    "  - предложенный алгоритм/модель не должен предполагать наличие обучающих данных для каждого целевого типа объектов, т.е. обучение на каком-то наборе примеров допускается, но это должно быть обучение общим принципам генерации промптов, а не конкретным названиям; основным источником знаний должны выступать предобученные текстовый и визуальный энкодеры CLIP'a \n",
    " "
   ]
  },
  {
   "cell_type": "code",
   "execution_count": 1,
   "id": "2b45ff9a-5c08-4fe7-8823-dab0bae3cdf8",
   "metadata": {
    "tags": []
   },
   "outputs": [],
   "source": [
    "!pip install -q git+https://github.com/huggingface/transformers.git"
   ]
  },
  {
   "cell_type": "code",
   "execution_count": 2,
   "id": "5b5c7c43-12fa-4696-9849-7cac4514c728",
   "metadata": {
    "tags": []
   },
   "outputs": [],
   "source": [
    "!pip install Pillow opencv-python -q"
   ]
  },
  {
   "cell_type": "code",
   "execution_count": null,
   "id": "c92edae9-48be-4e12-9a8b-20aff6123f44",
   "metadata": {},
   "outputs": [],
   "source": [
    "!pip install torch transformers torchvision -q"
   ]
  },
  {
   "cell_type": "markdown",
   "id": "68510244-b58c-4d37-94ad-6e72479bebd1",
   "metadata": {},
   "source": [
    "### Problem: Text Prompt"
   ]
  },
  {
   "cell_type": "code",
   "execution_count": 3,
   "id": "b38a68b5-2e2f-4c50-801b-25f194a69a16",
   "metadata": {
    "tags": []
   },
   "outputs": [
    {
     "name": "stderr",
     "output_type": "stream",
     "text": [
      "None of PyTorch, TensorFlow >= 2.0, or Flax have been found. Models won't be available and only tokenizers, configuration and file/data utilities can be used.\n",
      "None of PyTorch, TensorFlow >= 2.0, or Flax have been found. Models won't be available and only tokenizers, configuration and file/data utilities can be used.\n"
     ]
    },
    {
     "ename": "ImportError",
     "evalue": "\nOwlViTForObjectDetection requires the PyTorch library but it was not found in your environment. Checkout the instructions on the\ninstallation page: https://pytorch.org/get-started/locally/ and follow the ones that match your environment.\nPlease note that you may need to restart your runtime after installation.\n",
     "output_type": "error",
     "traceback": [
      "\u001b[0;31m---------------------------------------------------------------------------\u001b[0m",
      "\u001b[0;31mImportError\u001b[0m                               Traceback (most recent call last)",
      "Cell \u001b[0;32mIn[3], line 3\u001b[0m\n\u001b[1;32m      1\u001b[0m \u001b[38;5;28;01mfrom\u001b[39;00m \u001b[38;5;21;01mtransformers\u001b[39;00m \u001b[38;5;28;01mimport\u001b[39;00m OwlViTProcessor, OwlViTForObjectDetection\n\u001b[0;32m----> 3\u001b[0m model \u001b[38;5;241m=\u001b[39m \u001b[43mOwlViTForObjectDetection\u001b[49m\u001b[38;5;241;43m.\u001b[39;49m\u001b[43mfrom_pretrained\u001b[49m(\u001b[38;5;124m\"\u001b[39m\u001b[38;5;124mgoogle/owlvit-base-patch32\u001b[39m\u001b[38;5;124m\"\u001b[39m)\n\u001b[1;32m      4\u001b[0m processor \u001b[38;5;241m=\u001b[39m OwlViTProcessor\u001b[38;5;241m.\u001b[39mfrom_pretrained(\u001b[38;5;124m\"\u001b[39m\u001b[38;5;124mgoogle/owlvit-base-patch32\u001b[39m\u001b[38;5;124m\"\u001b[39m)\n",
      "File \u001b[0;32m/opt/conda/lib/python3.10/site-packages/transformers/utils/import_utils.py:1097\u001b[0m, in \u001b[0;36mDummyObject.__getattribute__\u001b[0;34m(cls, key)\u001b[0m\n\u001b[1;32m   1095\u001b[0m \u001b[38;5;28;01mif\u001b[39;00m key\u001b[38;5;241m.\u001b[39mstartswith(\u001b[38;5;124m\"\u001b[39m\u001b[38;5;124m_\u001b[39m\u001b[38;5;124m\"\u001b[39m) \u001b[38;5;129;01mand\u001b[39;00m key \u001b[38;5;241m!=\u001b[39m \u001b[38;5;124m\"\u001b[39m\u001b[38;5;124m_from_config\u001b[39m\u001b[38;5;124m\"\u001b[39m:\n\u001b[1;32m   1096\u001b[0m     \u001b[38;5;28;01mreturn\u001b[39;00m \u001b[38;5;28msuper\u001b[39m()\u001b[38;5;241m.\u001b[39m\u001b[38;5;21m__getattribute__\u001b[39m(key)\n\u001b[0;32m-> 1097\u001b[0m \u001b[43mrequires_backends\u001b[49m\u001b[43m(\u001b[49m\u001b[38;5;28;43mcls\u001b[39;49m\u001b[43m,\u001b[49m\u001b[43m \u001b[49m\u001b[38;5;28;43mcls\u001b[39;49m\u001b[38;5;241;43m.\u001b[39;49m\u001b[43m_backends\u001b[49m\u001b[43m)\u001b[49m\n",
      "File \u001b[0;32m/opt/conda/lib/python3.10/site-packages/transformers/utils/import_utils.py:1085\u001b[0m, in \u001b[0;36mrequires_backends\u001b[0;34m(obj, backends)\u001b[0m\n\u001b[1;32m   1083\u001b[0m failed \u001b[38;5;241m=\u001b[39m [msg\u001b[38;5;241m.\u001b[39mformat(name) \u001b[38;5;28;01mfor\u001b[39;00m available, msg \u001b[38;5;129;01min\u001b[39;00m checks \u001b[38;5;28;01mif\u001b[39;00m \u001b[38;5;129;01mnot\u001b[39;00m available()]\n\u001b[1;32m   1084\u001b[0m \u001b[38;5;28;01mif\u001b[39;00m failed:\n\u001b[0;32m-> 1085\u001b[0m     \u001b[38;5;28;01mraise\u001b[39;00m \u001b[38;5;167;01mImportError\u001b[39;00m(\u001b[38;5;124m\"\u001b[39m\u001b[38;5;124m\"\u001b[39m\u001b[38;5;241m.\u001b[39mjoin(failed))\n",
      "\u001b[0;31mImportError\u001b[0m: \nOwlViTForObjectDetection requires the PyTorch library but it was not found in your environment. Checkout the instructions on the\ninstallation page: https://pytorch.org/get-started/locally/ and follow the ones that match your environment.\nPlease note that you may need to restart your runtime after installation.\n"
     ]
    }
   ],
   "source": [
    "from transformers import OwlViTProcessor, OwlViTForObjectDetection\n",
    "\n",
    "model = OwlViTForObjectDetection.from_pretrained(\"google/owlvit-base-patch32\")\n",
    "processor = OwlViTProcessor.from_pretrained(\"google/owlvit-base-patch32\")"
   ]
  },
  {
   "cell_type": "code",
   "execution_count": 1,
   "id": "ea47ddae-0c19-40af-877a-3eb74c4dc5fa",
   "metadata": {
    "tags": []
   },
   "outputs": [
    {
     "name": "stdout",
     "output_type": "stream",
     "text": [
      "Hi!\n"
     ]
    }
   ],
   "source": [
    "print('Hi!')"
   ]
  },
  {
   "cell_type": "code",
   "execution_count": null,
   "id": "eeafc148-7ad0-436d-9f68-f0bc6ea1e7ce",
   "metadata": {},
   "outputs": [],
   "source": []
  }
 ],
 "metadata": {
  "kernelspec": {
   "display_name": "Python 3 (ipykernel)",
   "language": "python",
   "name": "python3"
  },
  "language_info": {
   "codemirror_mode": {
    "name": "ipython",
    "version": 3
   },
   "file_extension": ".py",
   "mimetype": "text/x-python",
   "name": "python",
   "nbconvert_exporter": "python",
   "pygments_lexer": "ipython3",
   "version": "3.10.9"
  }
 },
 "nbformat": 4,
 "nbformat_minor": 5
}
